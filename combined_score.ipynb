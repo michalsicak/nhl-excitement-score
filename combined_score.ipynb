{
 "cells": [
  {
   "cell_type": "code",
   "execution_count": 226,
   "metadata": {},
   "outputs": [],
   "source": [
    "import requests\n",
    "import json\n",
    "import pandas as pd\n",
    "import numpy as np\n",
    "from datetime import date, timedelta, timezone, datetime\n",
    "from sklearn import preprocessing"
   ]
  },
  {
   "cell_type": "code",
   "execution_count": 227,
   "metadata": {},
   "outputs": [
    {
     "name": "stdout",
     "output_type": "stream",
     "text": [
      "2022-04-25\n"
     ]
    }
   ],
   "source": [
    "url = 'https://statsapi.web.nhl.com/api/v1/'\n",
    "schedule = 'schedule'\n",
    "date_query = 'date='\n",
    "linescore_query = 'expand=schedule.linescore'\n",
    "season_query = '?season=20172018'\n",
    "today_date = str(date.today() - timedelta(days=1,hours=5))\n",
    "print(today_date)"
   ]
  },
  {
   "cell_type": "code",
   "execution_count": 228,
   "metadata": {},
   "outputs": [
    {
     "name": "stdout",
     "output_type": "stream",
     "text": [
      "https://statsapi.web.nhl.com/api/v1/schedule?expand=schedule.linescore&date=2022-04-25\n"
     ]
    }
   ],
   "source": [
    "#get json response as text\n",
    "#compose url for yesterday's schedule with linescore\n",
    "url_linescore = url+schedule+'?'+linescore_query+'&'+date_query+today_date\n",
    "print(url_linescore)\n",
    "response = requests.get(url_linescore).text"
   ]
  },
  {
   "cell_type": "code",
   "execution_count": 229,
   "metadata": {},
   "outputs": [],
   "source": [
    "dict_response = json.loads(response)"
   ]
  },
  {
   "cell_type": "code",
   "execution_count": 230,
   "metadata": {},
   "outputs": [
    {
     "data": {
      "text/plain": [
       "{'copyright': 'NHL and the NHL Shield are registered trademarks of the National Hockey League. NHL and NHL team marks are the property of the NHL and its teams. © NHL 2022. All Rights Reserved.',\n",
       " 'totalItems': 1,\n",
       " 'totalEvents': 0,\n",
       " 'totalGames': 1,\n",
       " 'totalMatches': 0,\n",
       " 'metaData': {'timeStamp': '20220426_092741'},\n",
       " 'wait': 10,\n",
       " 'dates': [{'date': '2022-04-25',\n",
       "   'totalItems': 1,\n",
       "   'totalEvents': 0,\n",
       "   'totalGames': 1,\n",
       "   'totalMatches': 0,\n",
       "   'games': [{'gamePk': 2021021271,\n",
       "     'link': '/api/v1/game/2021021271/feed/live',\n",
       "     'gameType': 'R',\n",
       "     'season': '20212022',\n",
       "     'gameDate': '2022-04-26T00:00:00Z',\n",
       "     'status': {'abstractGameState': 'Final',\n",
       "      'codedGameState': '7',\n",
       "      'detailedState': 'Final',\n",
       "      'statusCode': '7',\n",
       "      'startTimeTBD': False},\n",
       "     'teams': {'away': {'leagueRecord': {'wins': 25,\n",
       "        'losses': 44,\n",
       "        'ot': 11,\n",
       "        'type': 'league'},\n",
       "       'score': 1,\n",
       "       'team': {'id': 4,\n",
       "        'name': 'Philadelphia Flyers',\n",
       "        'link': '/api/v1/teams/4'}},\n",
       "      'home': {'leagueRecord': {'wins': 27,\n",
       "        'losses': 42,\n",
       "        'ot': 11,\n",
       "        'type': 'league'},\n",
       "       'score': 3,\n",
       "       'team': {'id': 16,\n",
       "        'name': 'Chicago Blackhawks',\n",
       "        'link': '/api/v1/teams/16'}}},\n",
       "     'linescore': {'currentPeriod': 3,\n",
       "      'currentPeriodOrdinal': '3rd',\n",
       "      'currentPeriodTimeRemaining': 'Final',\n",
       "      'periods': [{'periodType': 'REGULAR',\n",
       "        'startTime': '2022-04-26T00:05:39Z',\n",
       "        'endTime': '2022-04-26T00:43:03Z',\n",
       "        'num': 1,\n",
       "        'ordinalNum': '1st',\n",
       "        'home': {'goals': 2, 'shotsOnGoal': 13, 'rinkSide': 'right'},\n",
       "        'away': {'goals': 1, 'shotsOnGoal': 14, 'rinkSide': 'left'}},\n",
       "       {'periodType': 'REGULAR',\n",
       "        'startTime': '2022-04-26T01:02:10Z',\n",
       "        'endTime': '2022-04-26T01:35:05Z',\n",
       "        'num': 2,\n",
       "        'ordinalNum': '2nd',\n",
       "        'home': {'goals': 0, 'shotsOnGoal': 9, 'rinkSide': 'left'},\n",
       "        'away': {'goals': 0, 'shotsOnGoal': 7, 'rinkSide': 'right'}},\n",
       "       {'periodType': 'REGULAR',\n",
       "        'startTime': '2022-04-26T01:54:02Z',\n",
       "        'endTime': '2022-04-26T02:32:58Z',\n",
       "        'num': 3,\n",
       "        'ordinalNum': '3rd',\n",
       "        'home': {'goals': 1, 'shotsOnGoal': 11, 'rinkSide': 'right'},\n",
       "        'away': {'goals': 0, 'shotsOnGoal': 13, 'rinkSide': 'left'}}],\n",
       "      'shootoutInfo': {'away': {'scores': 0, 'attempts': 0},\n",
       "       'home': {'scores': 0, 'attempts': 0}},\n",
       "      'teams': {'home': {'team': {'id': 16,\n",
       "         'name': 'Chicago Blackhawks',\n",
       "         'link': '/api/v1/teams/16'},\n",
       "        'goals': 3,\n",
       "        'shotsOnGoal': 33,\n",
       "        'goaliePulled': False,\n",
       "        'numSkaters': 3,\n",
       "        'powerPlay': False},\n",
       "       'away': {'team': {'id': 4,\n",
       "         'name': 'Philadelphia Flyers',\n",
       "         'link': '/api/v1/teams/4'},\n",
       "        'goals': 1,\n",
       "        'shotsOnGoal': 34,\n",
       "        'goaliePulled': False,\n",
       "        'numSkaters': 4,\n",
       "        'powerPlay': True}},\n",
       "      'powerPlayStrength': '4-on-3',\n",
       "      'hasShootout': False,\n",
       "      'intermissionInfo': {'intermissionTimeRemaining': 0,\n",
       "       'intermissionTimeElapsed': 0,\n",
       "       'inIntermission': False},\n",
       "      'powerPlayInfo': {'situationTimeRemaining': 37,\n",
       "       'situationTimeElapsed': 0,\n",
       "       'inSituation': True}},\n",
       "     'venue': {'id': 5092,\n",
       "      'name': 'United Center',\n",
       "      'link': '/api/v1/venues/5092'},\n",
       "     'content': {'link': '/api/v1/game/2021021271/content'}}],\n",
       "   'events': [],\n",
       "   'matches': []}]}"
      ]
     },
     "execution_count": 230,
     "metadata": {},
     "output_type": "execute_result"
    }
   ],
   "source": [
    "dict_response"
   ]
  },
  {
   "cell_type": "code",
   "execution_count": 231,
   "metadata": {},
   "outputs": [],
   "source": [
    "total_games = dict_response['dates'][0]['totalGames']"
   ]
  },
  {
   "cell_type": "code",
   "execution_count": 232,
   "metadata": {},
   "outputs": [
    {
     "data": {
      "text/plain": [
       "1"
      ]
     },
     "execution_count": 232,
     "metadata": {},
     "output_type": "execute_result"
    }
   ],
   "source": [
    "total_games"
   ]
  },
  {
   "cell_type": "code",
   "execution_count": 233,
   "metadata": {},
   "outputs": [],
   "source": [
    "all_games = dict_response['dates'][0]['games']"
   ]
  },
  {
   "cell_type": "code",
   "execution_count": 234,
   "metadata": {},
   "outputs": [],
   "source": [
    "home_team_scores = []\n",
    "away_team_scores = []\n",
    "home_teams = []\n",
    "away_teams = []\n",
    "goals_total = []\n",
    "shots_home = []\n",
    "shots_away = []\n",
    "shots_total = []\n",
    "game_status = []\n",
    "gameId = []\n",
    "\n",
    "for i in range(0,total_games):\n",
    "    home_team_scores.append((all_games[i]['teams']['home']['score']))\n",
    "    home_teams.append((all_games[i]['teams']['home']['team']['name']))\n",
    "    away_team_scores.append((all_games[i]['teams']['away']['score']))\n",
    "    away_teams.append((all_games[i]['teams']['away']['team']['name']))\n",
    "    goals_total.append((all_games[i]['teams']['home']['score'])+(all_games[i]['teams']['away']['score']))\n",
    "    shots_home.append(all_games[i]['linescore']['teams']['home']['shotsOnGoal'])\n",
    "    shots_away.append(all_games[i]['linescore']['teams']['away']['shotsOnGoal'])\n",
    "    shots_total.append(all_games[i]['linescore']['teams']['home']['shotsOnGoal']+all_games[i]['linescore']['teams']['away']['shotsOnGoal'])\n",
    "    game_status.append(all_games[i]['linescore']['currentPeriodOrdinal'])\n",
    "    gameId.append(str(all_games[i]['gamePk']))\n"
   ]
  },
  {
   "cell_type": "code",
   "execution_count": 235,
   "metadata": {},
   "outputs": [],
   "source": [
    "#normalize goals\n",
    "goals_total_np = np.array(goals_total).reshape(-1,1)"
   ]
  },
  {
   "cell_type": "code",
   "execution_count": 236,
   "metadata": {},
   "outputs": [],
   "source": [
    "scaler = preprocessing.MinMaxScaler()\n",
    "goals_normalized = scaler.fit_transform(goals_total_np)\n",
    "goals_normalized = np.round(goals_normalized,4)"
   ]
  },
  {
   "cell_type": "code",
   "execution_count": 237,
   "metadata": {},
   "outputs": [],
   "source": [
    "#prepare a list of lists for dataframe conversion\n",
    "data = []\n",
    "data.append(home_teams)\n",
    "data.append(away_teams)\n",
    "data.append(goals_total)\n",
    "data.append(goals_normalized)\n",
    "data.append(shots_total)\n",
    "#data.append(game_status)\n",
    "data.append(gameId)"
   ]
  },
  {
   "cell_type": "code",
   "execution_count": 238,
   "metadata": {},
   "outputs": [],
   "source": [
    "team_scores_df = pd.DataFrame(data).transpose()"
   ]
  },
  {
   "cell_type": "code",
   "execution_count": 239,
   "metadata": {},
   "outputs": [],
   "source": [
    "team_scores_df.columns=['home team','away team', 'goal total','normalized goals','shots total', 'gameId']"
   ]
  },
  {
   "cell_type": "code",
   "execution_count": 240,
   "metadata": {},
   "outputs": [
    {
     "data": {
      "text/html": [
       "<div>\n",
       "<style scoped>\n",
       "    .dataframe tbody tr th:only-of-type {\n",
       "        vertical-align: middle;\n",
       "    }\n",
       "\n",
       "    .dataframe tbody tr th {\n",
       "        vertical-align: top;\n",
       "    }\n",
       "\n",
       "    .dataframe thead th {\n",
       "        text-align: right;\n",
       "    }\n",
       "</style>\n",
       "<table border=\"1\" class=\"dataframe\">\n",
       "  <thead>\n",
       "    <tr style=\"text-align: right;\">\n",
       "      <th></th>\n",
       "      <th>home team</th>\n",
       "      <th>away team</th>\n",
       "      <th>goal total</th>\n",
       "      <th>normalized goals</th>\n",
       "      <th>shots total</th>\n",
       "    </tr>\n",
       "    <tr>\n",
       "      <th>gameId</th>\n",
       "      <th></th>\n",
       "      <th></th>\n",
       "      <th></th>\n",
       "      <th></th>\n",
       "      <th></th>\n",
       "    </tr>\n",
       "  </thead>\n",
       "  <tbody>\n",
       "    <tr>\n",
       "      <th>2021021271</th>\n",
       "      <td>Chicago Blackhawks</td>\n",
       "      <td>Philadelphia Flyers</td>\n",
       "      <td>4</td>\n",
       "      <td>[0.0]</td>\n",
       "      <td>67</td>\n",
       "    </tr>\n",
       "  </tbody>\n",
       "</table>\n",
       "</div>"
      ],
      "text/plain": [
       "                     home team            away team goal total  \\\n",
       "gameId                                                           \n",
       "2021021271  Chicago Blackhawks  Philadelphia Flyers          4   \n",
       "\n",
       "           normalized goals shots total  \n",
       "gameId                                   \n",
       "2021021271            [0.0]          67  "
      ]
     },
     "execution_count": 240,
     "metadata": {},
     "output_type": "execute_result"
    }
   ],
   "source": [
    "team_scores_df.set_index('gameId')"
   ]
  },
  {
   "cell_type": "code",
   "execution_count": null,
   "metadata": {},
   "outputs": [],
   "source": []
  }
 ],
 "metadata": {
  "interpreter": {
   "hash": "31f2aee4e71d21fbe5cf8b01ff0e069b9275f58929596ceb00d14d90e3e16cd6"
  },
  "kernelspec": {
   "display_name": "Python 3.8.2 64-bit",
   "language": "python",
   "name": "python3"
  },
  "language_info": {
   "codemirror_mode": {
    "name": "ipython",
    "version": 3
   },
   "file_extension": ".py",
   "mimetype": "text/x-python",
   "name": "python",
   "nbconvert_exporter": "python",
   "pygments_lexer": "ipython3",
   "version": "3.8.2"
  },
  "orig_nbformat": 4
 },
 "nbformat": 4,
 "nbformat_minor": 2
}
