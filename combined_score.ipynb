{
 "cells": [
  {
   "cell_type": "code",
   "execution_count": 324,
   "metadata": {},
   "outputs": [],
   "source": [
    "import requests\n",
    "import json\n",
    "import pandas as pd\n",
    "import numpy as np\n",
    "from datetime import date, timedelta, timezone, datetime\n",
    "from sklearn import preprocessing"
   ]
  },
  {
   "cell_type": "code",
   "execution_count": 552,
   "metadata": {},
   "outputs": [
    {
     "name": "stdout",
     "output_type": "stream",
     "text": [
      "2022-04-02\n"
     ]
    }
   ],
   "source": [
    "url = 'https://statsapi.web.nhl.com/api/v1/'\n",
    "schedule = 'schedule'\n",
    "date_query = 'date='\n",
    "linescore_query = 'expand=schedule.linescore'\n",
    "today_date = str(date.today() - timedelta(days=0,hours=5))\n",
    "print(today_date)"
   ]
  },
  {
   "cell_type": "code",
   "execution_count": 541,
   "metadata": {},
   "outputs": [
    {
     "name": "stdout",
     "output_type": "stream",
     "text": [
      "https://statsapi.web.nhl.com/api/v1/schedule?expand=schedule.linescore&date=2022-04-02\n"
     ]
    }
   ],
   "source": [
    "#get json response as text\n",
    "#compose url for yesterday's schedule with linescore\n",
    "url_linescore = url+schedule+'?'+linescore_query+'&'+date_query+today_date\n",
    "print(url_linescore)\n",
    "response = requests.get(url_linescore).text"
   ]
  },
  {
   "cell_type": "code",
   "execution_count": 542,
   "metadata": {},
   "outputs": [],
   "source": [
    "dict_response = json.loads(response)"
   ]
  },
  {
   "cell_type": "code",
   "execution_count": 575,
   "metadata": {},
   "outputs": [],
   "source": [
    "total_games = dict_response['dates'][0]['totalGames']"
   ]
  },
  {
   "cell_type": "code",
   "execution_count": 576,
   "metadata": {},
   "outputs": [],
   "source": [
    "all_games = dict_response['dates'][0]['games']"
   ]
  },
  {
   "cell_type": "code",
   "execution_count": 577,
   "metadata": {},
   "outputs": [],
   "source": [
    "home_team_scores = []\n",
    "away_team_scores = []\n",
    "home_teams = []\n",
    "away_teams = []\n",
    "goals_total = []\n",
    "shots_home = []\n",
    "shots_away = []\n",
    "shots_total = []\n",
    "game_status = []\n",
    "gameId = []\n",
    "\n",
    "for i in range(0,total_games):\n",
    "    home_team_scores.append((all_games[i]['teams']['home']['score']))\n",
    "    home_teams.append((all_games[i]['teams']['home']['team']['name']))\n",
    "    away_team_scores.append((all_games[i]['teams']['away']['score']))\n",
    "    away_teams.append((all_games[i]['teams']['away']['team']['name']))\n",
    "    goals_total.append((all_games[i]['teams']['home']['score'])+(all_games[i]['teams']['away']['score']))\n",
    "    shots_home.append(all_games[i]['linescore']['teams']['home']['shotsOnGoal'])\n",
    "    shots_away.append(all_games[i]['linescore']['teams']['away']['shotsOnGoal'])\n",
    "    shots_total.append(all_games[i]['linescore']['teams']['home']['shotsOnGoal']+all_games[i]['linescore']['teams']['away']['shotsOnGoal'])\n",
    "    game_status.append(all_games[i]['linescore']['currentPeriodOrdinal'])\n",
    "    gameId.append(str(all_games[i]['gamePk']))\n"
   ]
  },
  {
   "cell_type": "code",
   "execution_count": 578,
   "metadata": {},
   "outputs": [],
   "source": [
    "#normalize goals\n",
    "goals_total_np = np.array(goals_total).reshape(-1,1)"
   ]
  },
  {
   "cell_type": "code",
   "execution_count": 579,
   "metadata": {},
   "outputs": [],
   "source": [
    "scaler = preprocessing.MinMaxScaler()\n",
    "goals_normalized = scaler.fit_transform(goals_total_np)\n",
    "goals_normalized = np.round(goals_normalized,4)"
   ]
  },
  {
   "cell_type": "code",
   "execution_count": 580,
   "metadata": {},
   "outputs": [],
   "source": [
    "#prepare a list of lists for dataframe conversion\n",
    "data = []\n",
    "data.append(home_teams)\n",
    "data.append(away_teams)\n",
    "data.append(goals_total)\n",
    "data.append(goals_normalized)\n",
    "data.append(shots_total)\n",
    "data.append(game_status)\n",
    "data.append(gameId)"
   ]
  },
  {
   "cell_type": "code",
   "execution_count": 581,
   "metadata": {},
   "outputs": [],
   "source": [
    "team_scores_df = pd.DataFrame(data).transpose()"
   ]
  },
  {
   "cell_type": "code",
   "execution_count": 582,
   "metadata": {},
   "outputs": [],
   "source": [
    "team_scores_df.columns=['home team','away team', 'goals','normalized goals','shots total', 'game status','gameId']"
   ]
  },
  {
   "cell_type": "code",
   "execution_count": 583,
   "metadata": {},
   "outputs": [
    {
     "data": {
      "text/html": [
       "<div>\n",
       "<style scoped>\n",
       "    .dataframe tbody tr th:only-of-type {\n",
       "        vertical-align: middle;\n",
       "    }\n",
       "\n",
       "    .dataframe tbody tr th {\n",
       "        vertical-align: top;\n",
       "    }\n",
       "\n",
       "    .dataframe thead th {\n",
       "        text-align: right;\n",
       "    }\n",
       "</style>\n",
       "<table border=\"1\" class=\"dataframe\">\n",
       "  <thead>\n",
       "    <tr style=\"text-align: right;\">\n",
       "      <th></th>\n",
       "      <th>home team</th>\n",
       "      <th>away team</th>\n",
       "      <th>goals</th>\n",
       "      <th>normalized goals</th>\n",
       "      <th>shots total</th>\n",
       "      <th>game status</th>\n",
       "    </tr>\n",
       "    <tr>\n",
       "      <th>gameId</th>\n",
       "      <th></th>\n",
       "      <th></th>\n",
       "      <th></th>\n",
       "      <th></th>\n",
       "      <th></th>\n",
       "      <th></th>\n",
       "    </tr>\n",
       "  </thead>\n",
       "  <tbody>\n",
       "    <tr>\n",
       "      <th>2021021096</th>\n",
       "      <td>Winnipeg Jets</td>\n",
       "      <td>Los Angeles Kings</td>\n",
       "      <td>0</td>\n",
       "      <td>[0.0]</td>\n",
       "      <td>0</td>\n",
       "      <td>1st</td>\n",
       "    </tr>\n",
       "    <tr>\n",
       "      <th>2021021090</th>\n",
       "      <td>Boston Bruins</td>\n",
       "      <td>Columbus Blue Jackets</td>\n",
       "      <td>0</td>\n",
       "      <td>[0.0]</td>\n",
       "      <td>0</td>\n",
       "      <td>1st</td>\n",
       "    </tr>\n",
       "    <tr>\n",
       "      <th>2021021091</th>\n",
       "      <td>Tampa Bay Lightning</td>\n",
       "      <td>Montréal Canadiens</td>\n",
       "      <td>0</td>\n",
       "      <td>[0.0]</td>\n",
       "      <td>0</td>\n",
       "      <td>1st</td>\n",
       "    </tr>\n",
       "    <tr>\n",
       "      <th>2021021093</th>\n",
       "      <td>Philadelphia Flyers</td>\n",
       "      <td>Toronto Maple Leafs</td>\n",
       "      <td>0</td>\n",
       "      <td>[0.0]</td>\n",
       "      <td>0</td>\n",
       "      <td>1st</td>\n",
       "    </tr>\n",
       "    <tr>\n",
       "      <th>2021021094</th>\n",
       "      <td>Carolina Hurricanes</td>\n",
       "      <td>Minnesota Wild</td>\n",
       "      <td>0</td>\n",
       "      <td>[0.0]</td>\n",
       "      <td>0</td>\n",
       "      <td>1st</td>\n",
       "    </tr>\n",
       "    <tr>\n",
       "      <th>2021021098</th>\n",
       "      <td>Calgary Flames</td>\n",
       "      <td>St. Louis Blues</td>\n",
       "      <td>0</td>\n",
       "      <td>[0.0]</td>\n",
       "      <td>0</td>\n",
       "      <td>1st</td>\n",
       "    </tr>\n",
       "    <tr>\n",
       "      <th>2021021099</th>\n",
       "      <td>San Jose Sharks</td>\n",
       "      <td>Dallas Stars</td>\n",
       "      <td>0</td>\n",
       "      <td>[0.0]</td>\n",
       "      <td>0</td>\n",
       "      <td>1st</td>\n",
       "    </tr>\n",
       "    <tr>\n",
       "      <th>2021021092</th>\n",
       "      <td>New Jersey Devils</td>\n",
       "      <td>Florida Panthers</td>\n",
       "      <td>13</td>\n",
       "      <td>[1.0]</td>\n",
       "      <td>72</td>\n",
       "      <td>OT</td>\n",
       "    </tr>\n",
       "    <tr>\n",
       "      <th>2021021097</th>\n",
       "      <td>Colorado Avalanche</td>\n",
       "      <td>Pittsburgh Penguins</td>\n",
       "      <td>5</td>\n",
       "      <td>[0.3846]</td>\n",
       "      <td>78</td>\n",
       "      <td>3rd</td>\n",
       "    </tr>\n",
       "  </tbody>\n",
       "</table>\n",
       "</div>"
      ],
      "text/plain": [
       "                      home team              away team goals normalized goals  \\\n",
       "gameId                                                                          \n",
       "2021021096        Winnipeg Jets      Los Angeles Kings     0            [0.0]   \n",
       "2021021090        Boston Bruins  Columbus Blue Jackets     0            [0.0]   \n",
       "2021021091  Tampa Bay Lightning     Montréal Canadiens     0            [0.0]   \n",
       "2021021093  Philadelphia Flyers    Toronto Maple Leafs     0            [0.0]   \n",
       "2021021094  Carolina Hurricanes         Minnesota Wild     0            [0.0]   \n",
       "2021021098       Calgary Flames        St. Louis Blues     0            [0.0]   \n",
       "2021021099      San Jose Sharks           Dallas Stars     0            [0.0]   \n",
       "2021021092    New Jersey Devils       Florida Panthers    13            [1.0]   \n",
       "2021021097   Colorado Avalanche    Pittsburgh Penguins     5         [0.3846]   \n",
       "\n",
       "           shots total game status  \n",
       "gameId                              \n",
       "2021021096           0         1st  \n",
       "2021021090           0         1st  \n",
       "2021021091           0         1st  \n",
       "2021021093           0         1st  \n",
       "2021021094           0         1st  \n",
       "2021021098           0         1st  \n",
       "2021021099           0         1st  \n",
       "2021021092          72          OT  \n",
       "2021021097          78         3rd  "
      ]
     },
     "execution_count": 583,
     "metadata": {},
     "output_type": "execute_result"
    }
   ],
   "source": [
    "team_scores_df.set_index('gameId')"
   ]
  },
  {
   "cell_type": "code",
   "execution_count": null,
   "metadata": {},
   "outputs": [],
   "source": []
  }
 ],
 "metadata": {
  "interpreter": {
   "hash": "31f2aee4e71d21fbe5cf8b01ff0e069b9275f58929596ceb00d14d90e3e16cd6"
  },
  "kernelspec": {
   "display_name": "Python 3.8.2 64-bit",
   "language": "python",
   "name": "python3"
  },
  "language_info": {
   "codemirror_mode": {
    "name": "ipython",
    "version": 3
   },
   "file_extension": ".py",
   "mimetype": "text/x-python",
   "name": "python",
   "nbconvert_exporter": "python",
   "pygments_lexer": "ipython3",
   "version": "3.8.2"
  },
  "orig_nbformat": 4
 },
 "nbformat": 4,
 "nbformat_minor": 2
}
